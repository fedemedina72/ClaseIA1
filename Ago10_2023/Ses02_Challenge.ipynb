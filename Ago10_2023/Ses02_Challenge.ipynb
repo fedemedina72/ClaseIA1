{
 "cells": [
  {
   "cell_type": "markdown",
   "metadata": {},
   "source": [
    "## Challenge"
   ]
  },
  {
   "cell_type": "markdown",
   "metadata": {},
   "source": [
    "It has happened. Aliens have arrived. They hail from a planet called Valhalla-23, where the temperature is measured in Valks. These visitors tell you that they have come to solve Earth’s global warming crisis. They offer you a machine that will solve the problem, but they warn you:\n",
    "\n",
    "- The machine must be set up in Valks.\n",
    "- If you input a wrong temperature value, you may end up freezing or scorching the Earth.\n",
    "- No one knows how to transform between Celsius and Valks.\n",
    "\n",
    "You are tasked with finding a model for solving this problem, so you ask Humans and Valkians to collect temperature readings of several objects. The data are given in the Valhalla23.csv file."
   ]
  },
  {
   "cell_type": "code",
   "execution_count": 29,
   "metadata": {},
   "outputs": [],
   "source": [
    "# Librerias\n",
    "import pandas as pd"
   ]
  },
  {
   "cell_type": "code",
   "execution_count": 30,
   "metadata": {},
   "outputs": [
    {
     "data": {
      "text/html": [
       "<div>\n",
       "<style scoped>\n",
       "    .dataframe tbody tr th:only-of-type {\n",
       "        vertical-align: middle;\n",
       "    }\n",
       "\n",
       "    .dataframe tbody tr th {\n",
       "        vertical-align: top;\n",
       "    }\n",
       "\n",
       "    .dataframe thead th {\n",
       "        text-align: right;\n",
       "    }\n",
       "</style>\n",
       "<table border=\"1\" class=\"dataframe\">\n",
       "  <thead>\n",
       "    <tr style=\"text-align: right;\">\n",
       "      <th></th>\n",
       "      <th>Celsius</th>\n",
       "      <th>Valks</th>\n",
       "    </tr>\n",
       "  </thead>\n",
       "  <tbody>\n",
       "    <tr>\n",
       "      <th>0</th>\n",
       "      <td>61.4720</td>\n",
       "      <td>-139.7400</td>\n",
       "    </tr>\n",
       "    <tr>\n",
       "      <th>1</th>\n",
       "      <td>70.5790</td>\n",
       "      <td>-156.6000</td>\n",
       "    </tr>\n",
       "    <tr>\n",
       "      <th>2</th>\n",
       "      <td>-7.3013</td>\n",
       "      <td>73.2690</td>\n",
       "    </tr>\n",
       "    <tr>\n",
       "      <th>3</th>\n",
       "      <td>71.3380</td>\n",
       "      <td>-165.4200</td>\n",
       "    </tr>\n",
       "    <tr>\n",
       "      <th>4</th>\n",
       "      <td>43.2360</td>\n",
       "      <td>-75.8350</td>\n",
       "    </tr>\n",
       "    <tr>\n",
       "      <th>...</th>\n",
       "      <td>...</td>\n",
       "      <td>...</td>\n",
       "    </tr>\n",
       "    <tr>\n",
       "      <th>95</th>\n",
       "      <td>-7.0094</td>\n",
       "      <td>69.6320</td>\n",
       "    </tr>\n",
       "    <tr>\n",
       "      <th>96</th>\n",
       "      <td>36.8820</td>\n",
       "      <td>-71.2400</td>\n",
       "    </tr>\n",
       "    <tr>\n",
       "      <th>97</th>\n",
       "      <td>26.9390</td>\n",
       "      <td>-34.2550</td>\n",
       "    </tr>\n",
       "    <tr>\n",
       "      <th>98</th>\n",
       "      <td>-18.8100</td>\n",
       "      <td>106.4300</td>\n",
       "    </tr>\n",
       "    <tr>\n",
       "      <th>99</th>\n",
       "      <td>13.7120</td>\n",
       "      <td>9.1011</td>\n",
       "    </tr>\n",
       "  </tbody>\n",
       "</table>\n",
       "<p>100 rows × 2 columns</p>\n",
       "</div>"
      ],
      "text/plain": [
       "    Celsius     Valks\n",
       "0   61.4720 -139.7400\n",
       "1   70.5790 -156.6000\n",
       "2   -7.3013   73.2690\n",
       "3   71.3380 -165.4200\n",
       "4   43.2360  -75.8350\n",
       "..      ...       ...\n",
       "95  -7.0094   69.6320\n",
       "96  36.8820  -71.2400\n",
       "97  26.9390  -34.2550\n",
       "98 -18.8100  106.4300\n",
       "99  13.7120    9.1011\n",
       "\n",
       "[100 rows x 2 columns]"
      ]
     },
     "execution_count": 30,
     "metadata": {},
     "output_type": "execute_result"
    }
   ],
   "source": [
    "# Descargar datos de csv\n",
    "Valhalla = pd.read_csv(\"Valhalla23.csv\")\n",
    "\n",
    "Valhalla"
   ]
  },
  {
   "cell_type": "code",
   "execution_count": 31,
   "metadata": {},
   "outputs": [],
   "source": [
    "# Crear lista con los valores de la variable independiente (Celsius)\n",
    "x = Valhalla['Celsius']\n",
    "\n",
    "# Crear lista con los valores de la variable dependiente (Valks)\n",
    "y = Valhalla['Valks']\n",
    "\n",
    "# Crear lista con los hiper-parámetros iniciales (thetas)\n",
    "theta = [1, 1]\n",
    "\n",
    "# Cargar el valor del learning rate (alpha)\n",
    "alpha = 0.0001\n",
    "\n",
    "# Calcular el total de muestras a partir de los datos (n)\n",
    "n = len(x)\n"
   ]
  },
  {
   "cell_type": "code",
   "execution_count": 32,
   "metadata": {},
   "outputs": [],
   "source": [
    "# Crear función lambda para la función de hipótesis\n",
    "def _lambda(list: theta, int: n):\n",
    "\n",
    "    h_theta = []\n",
    "    delta_theta = []\n",
    "    suma_delta_theta0 = 0\n",
    "    suma_delta_theta1 = 0\n",
    "   \n",
    "    for i in range(n):\n",
    "        h_theta.append(theta[0] + theta[1]*x[i])\n",
    "        delta_theta_0 = (1/n)*(h_theta[i] - y[i])\n",
    "        delta_theta_1 = (1/n)*((h_theta[i] - y[i])*x[i])\n",
    "        suma_delta_theta0 += delta_theta_0\n",
    "        suma_delta_theta1 += delta_theta_1\n",
    "    \n",
    "    return suma_delta_theta0, suma_delta_theta1"
   ]
  },
  {
   "cell_type": "code",
   "execution_count": 33,
   "metadata": {},
   "outputs": [
    {
     "data": {
      "text/plain": [
       "(81.81848529999998, 6156.219098332408)"
      ]
     },
     "execution_count": 33,
     "metadata": {},
     "output_type": "execute_result"
    }
   ],
   "source": [
    "# Calcular delta para theta y para cada muestra\n",
    "delta_theta0, delta_theta1 = _lambda(theta, n)\n",
    "delta_theta0, delta_theta1"
   ]
  },
  {
   "cell_type": "code",
   "execution_count": 34,
   "metadata": {},
   "outputs": [
    {
     "data": {
      "text/plain": [
       "[0.99181815147, 0.38437809016675917]"
      ]
     },
     "execution_count": 34,
     "metadata": {},
     "output_type": "execute_result"
    }
   ],
   "source": [
    "# Actualizar theta0\n",
    "theta_0 = theta[0] - alpha*delta_theta0\n",
    "\n",
    "# Actualizar theta1\n",
    "theta_1 = theta[1] - alpha*delta_theta1\n",
    "\n",
    "theta = [theta_0, theta_1]\n",
    "theta"
   ]
  },
  {
   "cell_type": "code",
   "execution_count": 35,
   "metadata": {},
   "outputs": [
    {
     "data": {
      "text/plain": [
       "[18.513853352917806, -2.452969753801159]"
      ]
     },
     "execution_count": 35,
     "metadata": {},
     "output_type": "execute_result"
    }
   ],
   "source": [
    "for i in range(10000):\n",
    "    # Calcular delta para theta y para cada muestra\n",
    "    delta_theta0, delta_theta1 = _lambda(theta, n)\n",
    "    delta_theta0, delta_theta1\n",
    "\n",
    "    # Actualizar theta0\n",
    "    theta_0 = theta[0] - alpha*delta_theta0\n",
    "\n",
    "    # Actualizar theta1\n",
    "    theta_1 = theta[1] - alpha*delta_theta1\n",
    "\n",
    "    theta = [theta_0, theta_1]\n",
    "\n",
    "theta"
   ]
  }
 ],
 "metadata": {
  "kernelspec": {
   "display_name": "base",
   "language": "python",
   "name": "python3"
  },
  "language_info": {
   "codemirror_mode": {
    "name": "ipython",
    "version": 3
   },
   "file_extension": ".py",
   "mimetype": "text/x-python",
   "name": "python",
   "nbconvert_exporter": "python",
   "pygments_lexer": "ipython3",
   "version": "3.9.12"
  },
  "orig_nbformat": 4
 },
 "nbformat": 4,
 "nbformat_minor": 2
}
